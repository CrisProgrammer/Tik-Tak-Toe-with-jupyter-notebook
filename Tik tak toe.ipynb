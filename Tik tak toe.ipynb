{
 "cells": [
  {
   "cell_type": "code",
   "execution_count": 1,
   "id": "27257555",
   "metadata": {},
   "outputs": [],
   "source": [
    "from IPython.display import clear_output # this is only for jupyter notebook\n",
    "values = { '1':' ', '2':' ', '3':' ', '4':' ', '5':' ', '6':' ',  '7':' ', '8':' ', '9':' ', 'notCorrect':'notCorrect'}\n",
    "def printMap(values):\n",
    "    clear_output()\n",
    "    print('   |   |   ')\n",
    "    print(f\" {values['7']} | {values['8']} | {values['9']} \")\n",
    "    print('   |   |   ')\n",
    "    print('-----------')\n",
    "    print('   |   |   ')\n",
    "    print(f\" {values['4']} | {values['5']} | {values['6']} \")\n",
    "    print('   |   |   ')\n",
    "    print('-----------')\n",
    "    print('   |   |   ')\n",
    "    print(f\" {values['1']} | {values['2']} | {values['3']} \")\n",
    "    print('   |   |   ')"
   ]
  },
  {
   "cell_type": "code",
   "execution_count": 2,
   "id": "051d31b2",
   "metadata": {},
   "outputs": [
    {
     "name": "stdout",
     "output_type": "stream",
     "text": [
      "   |   |   \n",
      "   |   |   \n",
      "   |   |   \n",
      "-----------\n",
      "   |   |   \n",
      "   |   |   \n",
      "   |   |   \n",
      "-----------\n",
      "   |   |   \n",
      "   |   |   \n",
      "   |   |   \n"
     ]
    }
   ],
   "source": [
    "printMap(values)\n",
    "printMap(values)\n",
    "printMap(values)"
   ]
  },
  {
   "cell_type": "code",
   "execution_count": 3,
   "id": "05db08f8",
   "metadata": {},
   "outputs": [],
   "source": [
    "def ChoosePlayer():\n",
    "    jugadorUno = 'notCorrect'\n",
    "    while jugadorUno != 'X' and jugadorUno != \"O\":\n",
    "        jugadorUno = input('Player 1, choose which one you will be (X or O): ').capitalize()\n",
    "        print(jugadorUno)\n",
    "        if jugadorUno != 'X' and jugadorUno != \"O\": print(\"Sorry, you can only be X or O\")\n",
    "    return jugadorUno"
   ]
  },
  {
   "cell_type": "code",
   "execution_count": 4,
   "id": "10e70bdd",
   "metadata": {},
   "outputs": [
    {
     "name": "stdout",
     "output_type": "stream",
     "text": [
      "Player 1, choose which one you will be (X or O): l\n",
      "L\n",
      "Sorry, you can only be X or O\n",
      "Player 1, choose which one you will be (X or O): o\n",
      "O\n"
     ]
    },
    {
     "data": {
      "text/plain": [
       "'O'"
      ]
     },
     "execution_count": 4,
     "metadata": {},
     "output_type": "execute_result"
    }
   ],
   "source": [
    "ChoosePlayer()"
   ]
  },
  {
   "cell_type": "code",
   "execution_count": 5,
   "id": "ff118ae2",
   "metadata": {},
   "outputs": [],
   "source": [
    "def TakeTurn(values, player):\n",
    "    keyToChance = 'notCorrect'\n",
    "    while keyToChance not in ['1','2','3','4','5','6','7','8','9'] or values[keyToChance] != ' ':\n",
    "        keyToChance = input(f'Put the coordenate where you want to put your {player} (1-9): ')\n",
    "        if keyToChance not in range(1,10): print(\"It isn't a number from 1 to 9\")\n",
    "        elif values[keyToChance] != ' ': print('that place was taken!')\n",
    "    values[keyToChance] = player\n",
    "    printMap(values)"
   ]
  },
  {
   "cell_type": "code",
   "execution_count": 6,
   "id": "4a6e166a",
   "metadata": {},
   "outputs": [],
   "source": [
    "def AreYouReady():\n",
    "    ready = 'notCorrect'\n",
    "    while ready != 'Y' and ready != 'N':\n",
    "        ready = input(f'Are you ready to play? Y/N: ').capitalize()\n",
    "        if ready != 'Y' and ready != 'N': print(\"Put Y or N\")\n",
    "    if ready == 'Y': return True\n",
    "    return False"
   ]
  },
  {
   "cell_type": "code",
   "execution_count": 7,
   "id": "1f56c692",
   "metadata": {},
   "outputs": [
    {
     "name": "stdout",
     "output_type": "stream",
     "text": [
      "Are you ready to play? Y/N: l\n",
      "Put Y or N\n",
      "Are you ready to play? Y/N: n\n"
     ]
    },
    {
     "data": {
      "text/plain": [
       "False"
      ]
     },
     "execution_count": 7,
     "metadata": {},
     "output_type": "execute_result"
    }
   ],
   "source": [
    "AreYouReady()"
   ]
  },
  {
   "cell_type": "code",
   "execution_count": 8,
   "id": "5bec14bc",
   "metadata": {},
   "outputs": [
    {
     "name": "stdout",
     "output_type": "stream",
     "text": [
      "Are you ready to play? Y/N: y\n"
     ]
    },
    {
     "data": {
      "text/plain": [
       "True"
      ]
     },
     "execution_count": 8,
     "metadata": {},
     "output_type": "execute_result"
    }
   ],
   "source": [
    "AreYouReady()"
   ]
  },
  {
   "cell_type": "code",
   "execution_count": 9,
   "id": "2cdb60fb",
   "metadata": {},
   "outputs": [
    {
     "name": "stdout",
     "output_type": "stream",
     "text": [
      "   |   |   \n",
      "   |   |   \n",
      "   |   |   \n",
      "-----------\n",
      "   |   |   \n",
      "   |   | O \n",
      "   |   |   \n",
      "-----------\n",
      "   |   |   \n",
      "   |   |   \n",
      "   |   |   \n"
     ]
    }
   ],
   "source": [
    "TakeTurn(values, 'O')"
   ]
  },
  {
   "cell_type": "code",
   "execution_count": 10,
   "id": "105da432",
   "metadata": {},
   "outputs": [],
   "source": [
    "def ChooseWinner(values, player):\n",
    "    winnerChoosen = False\n",
    "    if (values['1'] == values['2'] == values['3'] == player) or (values['4'] == values['5'] == values['6'] == player) or (values['7'] == values['8'] == values['9'] == player) or (values['1'] == values['4'] == values['7'] == player) or (values['2'] == values['5'] == values['8'] == player) or (values['3'] == values['6'] == values['9'] == player) or (values['1'] == values['5'] == values['9'] == player) or (values['3'] == values['5'] == values['7'] == player):\n",
    "        winnerChoosen = True\n",
    "        print(f'Congrats, {player} wins!')\n",
    "    else:\n",
    "        full = True\n",
    "        for key in values: \n",
    "            if values[key] == ' ': full = False\n",
    "        if full == True: \n",
    "            winnerChoosen = True\n",
    "            print('All places were taken!')\n",
    "    return winnerChoosen"
   ]
  },
  {
   "cell_type": "code",
   "execution_count": 11,
   "id": "c1d51368",
   "metadata": {},
   "outputs": [
    {
     "name": "stdout",
     "output_type": "stream",
     "text": [
      "Congrats, X wins!\n"
     ]
    },
    {
     "data": {
      "text/plain": [
       "True"
      ]
     },
     "execution_count": 11,
     "metadata": {},
     "output_type": "execute_result"
    }
   ],
   "source": [
    "ChooseWinner({ '1':'X', '2':'X', '3':'X', '4':'X', '5':'X', '6':'X',  '7':'X', '8':'X', '9':'X'},'X')"
   ]
  },
  {
   "cell_type": "code",
   "execution_count": 12,
   "id": "8c2790c9",
   "metadata": {},
   "outputs": [],
   "source": [
    "valuesGame = { '1':' ', '2':' ', '3':' ', '4':' ', '5':' ', '6':' ',  '7':' ', '8':' ', '9':' '}\n",
    "def JuegoCompleto(valuesGame):\n",
    "    val = valuesGame\n",
    "    print('Welcome to Tic Tac Toe')\n",
    "    player1 = ChoosePlayer()\n",
    "    if player1 == 'X': player2 = 'O'\n",
    "    elif player1 == 'O': player2 = 'X'\n",
    "    print('Player 1 plays First')\n",
    "    playerTurn = player1\n",
    "    ready=AreYouReady()\n",
    "    if ready == False: \n",
    "        print('See you later!')\n",
    "        return\n",
    "    printMap(val)\n",
    "    gameFinish = False\n",
    "    TakeTurn(val, playerTurn)\n",
    "    while gameFinish == False:\n",
    "        if playerTurn == player1: playerTurn = player2\n",
    "        elif playerTurn == player2: playerTurn = player1\n",
    "        TakeTurn(val, playerTurn)\n",
    "        gameFinish = ChooseWinner(val, playerTurn)\n",
    "    finJuego = 'noValido'\n",
    "    while finJuego != 'Y' and finJuego != 'N':\n",
    "        finJuego = input('Do you want to continue playing? (Y/N): ').capitalize()\n",
    "        if finJuego != 'Y' and finJuego != 'N': print('Only Y and N are acceptable answers')\n",
    "    if finJuego == 'Y': JuegoCompleto({ '1':' ', '2':' ', '3':' ', '4':' ', '5':' ', '6':' ',  '7':' ', '8':' ', '9':' '})\n",
    "    if finJuego == 'N': print('TY for playing!')"
   ]
  },
  {
   "cell_type": "code",
   "execution_count": 13,
   "id": "eace460e",
   "metadata": {},
   "outputs": [
    {
     "name": "stdout",
     "output_type": "stream",
     "text": [
      "Welcome to Tic Tac Toe\n",
      "Player 1, choose which one you will be (X or O): f\n",
      "F\n",
      "Sorry, you can only be X or O\n",
      "Player 1, choose which one you will be (X or O): x\n",
      "X\n",
      "Player 1 plays First\n",
      "Are you ready to play? Y/N: n\n",
      "See you later!\n"
     ]
    }
   ],
   "source": [
    "JuegoCompleto(valuesGame)"
   ]
  },
  {
   "cell_type": "code",
   "execution_count": 14,
   "id": "fbdc9cb5",
   "metadata": {},
   "outputs": [
    {
     "name": "stdout",
     "output_type": "stream",
     "text": [
      "   |   |   \n",
      " O | X | X \n",
      "   |   |   \n",
      "-----------\n",
      "   |   |   \n",
      "   | O | X \n",
      "   |   |   \n",
      "-----------\n",
      "   |   |   \n",
      " O | O | X \n",
      "   |   |   \n",
      "Congrats, X wins!\n",
      "Do you want to continue playing? (Y/N): n\n",
      "TY for playing!\n"
     ]
    }
   ],
   "source": [
    "JuegoCompleto(valuesGame)"
   ]
  },
  {
   "cell_type": "markdown",
   "id": "1b96161c",
   "metadata": {},
   "source": [
    "##### "
   ]
  }
 ],
 "metadata": {
  "kernelspec": {
   "display_name": "Python 3 (ipykernel)",
   "language": "python",
   "name": "python3"
  },
  "language_info": {
   "codemirror_mode": {
    "name": "ipython",
    "version": 3
   },
   "file_extension": ".py",
   "mimetype": "text/x-python",
   "name": "python",
   "nbconvert_exporter": "python",
   "pygments_lexer": "ipython3",
   "version": "3.9.7"
  }
 },
 "nbformat": 4,
 "nbformat_minor": 5
}
